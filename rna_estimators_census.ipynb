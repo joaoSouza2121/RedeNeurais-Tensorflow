{
  "nbformat": 4,
  "nbformat_minor": 0,
  "metadata": {
    "colab": {
      "name": "rna_estimators_census.ipynb",
      "provenance": [],
      "authorship_tag": "ABX9TyOk7Pxxp07u/hSo2srBZNxo",
      "include_colab_link": true
    },
    "kernelspec": {
      "name": "python3",
      "display_name": "Python 3"
    },
    "language_info": {
      "name": "python"
    }
  },
  "cells": [
    {
      "cell_type": "markdown",
      "metadata": {
        "id": "view-in-github",
        "colab_type": "text"
      },
      "source": [
        "<a href=\"https://colab.research.google.com/github/joaoSouza2121/RedeNeurais-Tensorflow/blob/main/rna_estimators_census.ipynb\" target=\"_parent\"><img src=\"https://colab.research.google.com/assets/colab-badge.svg\" alt=\"Open In Colab\"/></a>"
      ]
    },
    {
      "cell_type": "markdown",
      "metadata": {
        "id": "wnwRd0fIOEBg"
      },
      "source": [
        "##Redes Neurais Artificiais - Usando estimators"
      ]
    },
    {
      "cell_type": "markdown",
      "metadata": {
        "id": "l8t0JjNHOPEo"
      },
      "source": [
        "Base de dados census - com base em varias caracteristica prever se uma pessoa ganha acima de 50k dolares ao ano ou menos."
      ]
    },
    {
      "cell_type": "code",
      "metadata": {
        "id": "cZjwXBz5N3Ou"
      },
      "source": [
        "# Imports\n",
        "import pandas as pd\n",
        "import numpy as np\n",
        "import matplotlib.pyplot as plt\n",
        "import seaborn as sns\n",
        "from sklearn.model_selection import train_test_split"
      ],
      "execution_count": null,
      "outputs": []
    },
    {
      "cell_type": "markdown",
      "metadata": {
        "id": "zezZlNWrO6ES"
      },
      "source": [
        "# Carregando a base de dados"
      ]
    },
    {
      "cell_type": "code",
      "metadata": {
        "id": "vScXQjEfO456"
      },
      "source": [
        "base = pd.read_csv('census.csv')"
      ],
      "execution_count": null,
      "outputs": []
    },
    {
      "cell_type": "code",
      "metadata": {
        "colab": {
          "base_uri": "https://localhost:8080/",
          "height": 323
        },
        "id": "4bM6OXoxPOkF",
        "outputId": "ec525627-ef53-4d6d-c588-491b37725d2b"
      },
      "source": [
        "base.head()"
      ],
      "execution_count": null,
      "outputs": [
        {
          "output_type": "execute_result",
          "data": {
            "text/html": [
              "<div>\n",
              "<style scoped>\n",
              "    .dataframe tbody tr th:only-of-type {\n",
              "        vertical-align: middle;\n",
              "    }\n",
              "\n",
              "    .dataframe tbody tr th {\n",
              "        vertical-align: top;\n",
              "    }\n",
              "\n",
              "    .dataframe thead th {\n",
              "        text-align: right;\n",
              "    }\n",
              "</style>\n",
              "<table border=\"1\" class=\"dataframe\">\n",
              "  <thead>\n",
              "    <tr style=\"text-align: right;\">\n",
              "      <th></th>\n",
              "      <th>age</th>\n",
              "      <th>workclass</th>\n",
              "      <th>final-weight</th>\n",
              "      <th>education</th>\n",
              "      <th>education-num</th>\n",
              "      <th>marital-status</th>\n",
              "      <th>occupation</th>\n",
              "      <th>relationship</th>\n",
              "      <th>race</th>\n",
              "      <th>sex</th>\n",
              "      <th>capital-gain</th>\n",
              "      <th>capital-loos</th>\n",
              "      <th>hour-per-week</th>\n",
              "      <th>native-country</th>\n",
              "      <th>income</th>\n",
              "    </tr>\n",
              "  </thead>\n",
              "  <tbody>\n",
              "    <tr>\n",
              "      <th>0</th>\n",
              "      <td>39</td>\n",
              "      <td>State-gov</td>\n",
              "      <td>77516</td>\n",
              "      <td>Bachelors</td>\n",
              "      <td>13</td>\n",
              "      <td>Never-married</td>\n",
              "      <td>Adm-clerical</td>\n",
              "      <td>Not-in-family</td>\n",
              "      <td>White</td>\n",
              "      <td>Male</td>\n",
              "      <td>2174</td>\n",
              "      <td>0</td>\n",
              "      <td>40</td>\n",
              "      <td>United-States</td>\n",
              "      <td>&lt;=50K</td>\n",
              "    </tr>\n",
              "    <tr>\n",
              "      <th>1</th>\n",
              "      <td>50</td>\n",
              "      <td>Self-emp-not-inc</td>\n",
              "      <td>83311</td>\n",
              "      <td>Bachelors</td>\n",
              "      <td>13</td>\n",
              "      <td>Married-civ-spouse</td>\n",
              "      <td>Exec-managerial</td>\n",
              "      <td>Husband</td>\n",
              "      <td>White</td>\n",
              "      <td>Male</td>\n",
              "      <td>0</td>\n",
              "      <td>0</td>\n",
              "      <td>13</td>\n",
              "      <td>United-States</td>\n",
              "      <td>&lt;=50K</td>\n",
              "    </tr>\n",
              "    <tr>\n",
              "      <th>2</th>\n",
              "      <td>38</td>\n",
              "      <td>Private</td>\n",
              "      <td>215646</td>\n",
              "      <td>HS-grad</td>\n",
              "      <td>9</td>\n",
              "      <td>Divorced</td>\n",
              "      <td>Handlers-cleaners</td>\n",
              "      <td>Not-in-family</td>\n",
              "      <td>White</td>\n",
              "      <td>Male</td>\n",
              "      <td>0</td>\n",
              "      <td>0</td>\n",
              "      <td>40</td>\n",
              "      <td>United-States</td>\n",
              "      <td>&lt;=50K</td>\n",
              "    </tr>\n",
              "    <tr>\n",
              "      <th>3</th>\n",
              "      <td>53</td>\n",
              "      <td>Private</td>\n",
              "      <td>234721</td>\n",
              "      <td>11th</td>\n",
              "      <td>7</td>\n",
              "      <td>Married-civ-spouse</td>\n",
              "      <td>Handlers-cleaners</td>\n",
              "      <td>Husband</td>\n",
              "      <td>Black</td>\n",
              "      <td>Male</td>\n",
              "      <td>0</td>\n",
              "      <td>0</td>\n",
              "      <td>40</td>\n",
              "      <td>United-States</td>\n",
              "      <td>&lt;=50K</td>\n",
              "    </tr>\n",
              "    <tr>\n",
              "      <th>4</th>\n",
              "      <td>28</td>\n",
              "      <td>Private</td>\n",
              "      <td>338409</td>\n",
              "      <td>Bachelors</td>\n",
              "      <td>13</td>\n",
              "      <td>Married-civ-spouse</td>\n",
              "      <td>Prof-specialty</td>\n",
              "      <td>Wife</td>\n",
              "      <td>Black</td>\n",
              "      <td>Female</td>\n",
              "      <td>0</td>\n",
              "      <td>0</td>\n",
              "      <td>40</td>\n",
              "      <td>Cuba</td>\n",
              "      <td>&lt;=50K</td>\n",
              "    </tr>\n",
              "  </tbody>\n",
              "</table>\n",
              "</div>"
            ],
            "text/plain": [
              "   age          workclass  final-weight  ... hour-per-week  native-country  income\n",
              "0   39          State-gov         77516  ...            40   United-States   <=50K\n",
              "1   50   Self-emp-not-inc         83311  ...            13   United-States   <=50K\n",
              "2   38            Private        215646  ...            40   United-States   <=50K\n",
              "3   53            Private        234721  ...            40   United-States   <=50K\n",
              "4   28            Private        338409  ...            40            Cuba   <=50K\n",
              "\n",
              "[5 rows x 15 columns]"
            ]
          },
          "metadata": {},
          "execution_count": 3
        }
      ]
    },
    {
      "cell_type": "code",
      "metadata": {
        "colab": {
          "base_uri": "https://localhost:8080/"
        },
        "id": "h87WmeLSPSbS",
        "outputId": "fe4d55cf-024a-4dcb-f9ab-9e2c831290ce"
      },
      "source": [
        "# valores unicos da classe\n",
        "base.income.unique()"
      ],
      "execution_count": null,
      "outputs": [
        {
          "output_type": "execute_result",
          "data": {
            "text/plain": [
              "array([' <=50K', ' >50K'], dtype=object)"
            ]
          },
          "metadata": {},
          "execution_count": 4
        }
      ]
    },
    {
      "cell_type": "markdown",
      "metadata": {
        "id": "v_ecq0B2Pi2B"
      },
      "source": [
        "# Função para converter a classe em 0 e 1"
      ]
    },
    {
      "cell_type": "code",
      "metadata": {
        "id": "JBGrvel2Petq"
      },
      "source": [
        "def converte_classe(rotulo):\n",
        "    if rotulo == ' >50K':\n",
        "        return 1\n",
        "    else:\n",
        "        return 0"
      ],
      "execution_count": null,
      "outputs": []
    },
    {
      "cell_type": "code",
      "metadata": {
        "id": "B_NaQ6O2Pp0Z"
      },
      "source": [
        "base.income = base.income.apply(converte_classe)"
      ],
      "execution_count": null,
      "outputs": []
    },
    {
      "cell_type": "code",
      "metadata": {
        "colab": {
          "base_uri": "https://localhost:8080/",
          "height": 323
        },
        "id": "uh8huKVOPvAv",
        "outputId": "29fba931-4768-4050-b6a1-92c96e047d5f"
      },
      "source": [
        "base.head()"
      ],
      "execution_count": null,
      "outputs": [
        {
          "output_type": "execute_result",
          "data": {
            "text/html": [
              "<div>\n",
              "<style scoped>\n",
              "    .dataframe tbody tr th:only-of-type {\n",
              "        vertical-align: middle;\n",
              "    }\n",
              "\n",
              "    .dataframe tbody tr th {\n",
              "        vertical-align: top;\n",
              "    }\n",
              "\n",
              "    .dataframe thead th {\n",
              "        text-align: right;\n",
              "    }\n",
              "</style>\n",
              "<table border=\"1\" class=\"dataframe\">\n",
              "  <thead>\n",
              "    <tr style=\"text-align: right;\">\n",
              "      <th></th>\n",
              "      <th>age</th>\n",
              "      <th>workclass</th>\n",
              "      <th>final-weight</th>\n",
              "      <th>education</th>\n",
              "      <th>education-num</th>\n",
              "      <th>marital-status</th>\n",
              "      <th>occupation</th>\n",
              "      <th>relationship</th>\n",
              "      <th>race</th>\n",
              "      <th>sex</th>\n",
              "      <th>capital-gain</th>\n",
              "      <th>capital-loos</th>\n",
              "      <th>hour-per-week</th>\n",
              "      <th>native-country</th>\n",
              "      <th>income</th>\n",
              "    </tr>\n",
              "  </thead>\n",
              "  <tbody>\n",
              "    <tr>\n",
              "      <th>0</th>\n",
              "      <td>39</td>\n",
              "      <td>State-gov</td>\n",
              "      <td>77516</td>\n",
              "      <td>Bachelors</td>\n",
              "      <td>13</td>\n",
              "      <td>Never-married</td>\n",
              "      <td>Adm-clerical</td>\n",
              "      <td>Not-in-family</td>\n",
              "      <td>White</td>\n",
              "      <td>Male</td>\n",
              "      <td>2174</td>\n",
              "      <td>0</td>\n",
              "      <td>40</td>\n",
              "      <td>United-States</td>\n",
              "      <td>0</td>\n",
              "    </tr>\n",
              "    <tr>\n",
              "      <th>1</th>\n",
              "      <td>50</td>\n",
              "      <td>Self-emp-not-inc</td>\n",
              "      <td>83311</td>\n",
              "      <td>Bachelors</td>\n",
              "      <td>13</td>\n",
              "      <td>Married-civ-spouse</td>\n",
              "      <td>Exec-managerial</td>\n",
              "      <td>Husband</td>\n",
              "      <td>White</td>\n",
              "      <td>Male</td>\n",
              "      <td>0</td>\n",
              "      <td>0</td>\n",
              "      <td>13</td>\n",
              "      <td>United-States</td>\n",
              "      <td>0</td>\n",
              "    </tr>\n",
              "    <tr>\n",
              "      <th>2</th>\n",
              "      <td>38</td>\n",
              "      <td>Private</td>\n",
              "      <td>215646</td>\n",
              "      <td>HS-grad</td>\n",
              "      <td>9</td>\n",
              "      <td>Divorced</td>\n",
              "      <td>Handlers-cleaners</td>\n",
              "      <td>Not-in-family</td>\n",
              "      <td>White</td>\n",
              "      <td>Male</td>\n",
              "      <td>0</td>\n",
              "      <td>0</td>\n",
              "      <td>40</td>\n",
              "      <td>United-States</td>\n",
              "      <td>0</td>\n",
              "    </tr>\n",
              "    <tr>\n",
              "      <th>3</th>\n",
              "      <td>53</td>\n",
              "      <td>Private</td>\n",
              "      <td>234721</td>\n",
              "      <td>11th</td>\n",
              "      <td>7</td>\n",
              "      <td>Married-civ-spouse</td>\n",
              "      <td>Handlers-cleaners</td>\n",
              "      <td>Husband</td>\n",
              "      <td>Black</td>\n",
              "      <td>Male</td>\n",
              "      <td>0</td>\n",
              "      <td>0</td>\n",
              "      <td>40</td>\n",
              "      <td>United-States</td>\n",
              "      <td>0</td>\n",
              "    </tr>\n",
              "    <tr>\n",
              "      <th>4</th>\n",
              "      <td>28</td>\n",
              "      <td>Private</td>\n",
              "      <td>338409</td>\n",
              "      <td>Bachelors</td>\n",
              "      <td>13</td>\n",
              "      <td>Married-civ-spouse</td>\n",
              "      <td>Prof-specialty</td>\n",
              "      <td>Wife</td>\n",
              "      <td>Black</td>\n",
              "      <td>Female</td>\n",
              "      <td>0</td>\n",
              "      <td>0</td>\n",
              "      <td>40</td>\n",
              "      <td>Cuba</td>\n",
              "      <td>0</td>\n",
              "    </tr>\n",
              "  </tbody>\n",
              "</table>\n",
              "</div>"
            ],
            "text/plain": [
              "   age          workclass  final-weight  ... hour-per-week  native-country income\n",
              "0   39          State-gov         77516  ...            40   United-States      0\n",
              "1   50   Self-emp-not-inc         83311  ...            13   United-States      0\n",
              "2   38            Private        215646  ...            40   United-States      0\n",
              "3   53            Private        234721  ...            40   United-States      0\n",
              "4   28            Private        338409  ...            40            Cuba      0\n",
              "\n",
              "[5 rows x 15 columns]"
            ]
          },
          "metadata": {},
          "execution_count": 7
        }
      ]
    },
    {
      "cell_type": "markdown",
      "metadata": {
        "id": "NMxzHT2xP7Lo"
      },
      "source": [
        "# Variáveis previsoras e preditora"
      ]
    },
    {
      "cell_type": "code",
      "metadata": {
        "id": "PhFK4BPUPyKo"
      },
      "source": [
        "X = base.drop('income', axis = 1)\n",
        "y = base.income"
      ],
      "execution_count": null,
      "outputs": []
    },
    {
      "cell_type": "code",
      "metadata": {
        "colab": {
          "base_uri": "https://localhost:8080/",
          "height": 306
        },
        "id": "ZH3aL4JxQGf9",
        "outputId": "9b2d2fbd-0b9c-4788-db04-5f4b67de636a"
      },
      "source": [
        "X.head()"
      ],
      "execution_count": null,
      "outputs": [
        {
          "output_type": "execute_result",
          "data": {
            "text/html": [
              "<div>\n",
              "<style scoped>\n",
              "    .dataframe tbody tr th:only-of-type {\n",
              "        vertical-align: middle;\n",
              "    }\n",
              "\n",
              "    .dataframe tbody tr th {\n",
              "        vertical-align: top;\n",
              "    }\n",
              "\n",
              "    .dataframe thead th {\n",
              "        text-align: right;\n",
              "    }\n",
              "</style>\n",
              "<table border=\"1\" class=\"dataframe\">\n",
              "  <thead>\n",
              "    <tr style=\"text-align: right;\">\n",
              "      <th></th>\n",
              "      <th>age</th>\n",
              "      <th>workclass</th>\n",
              "      <th>final-weight</th>\n",
              "      <th>education</th>\n",
              "      <th>education-num</th>\n",
              "      <th>marital-status</th>\n",
              "      <th>occupation</th>\n",
              "      <th>relationship</th>\n",
              "      <th>race</th>\n",
              "      <th>sex</th>\n",
              "      <th>capital-gain</th>\n",
              "      <th>capital-loos</th>\n",
              "      <th>hour-per-week</th>\n",
              "      <th>native-country</th>\n",
              "    </tr>\n",
              "  </thead>\n",
              "  <tbody>\n",
              "    <tr>\n",
              "      <th>0</th>\n",
              "      <td>39</td>\n",
              "      <td>State-gov</td>\n",
              "      <td>77516</td>\n",
              "      <td>Bachelors</td>\n",
              "      <td>13</td>\n",
              "      <td>Never-married</td>\n",
              "      <td>Adm-clerical</td>\n",
              "      <td>Not-in-family</td>\n",
              "      <td>White</td>\n",
              "      <td>Male</td>\n",
              "      <td>2174</td>\n",
              "      <td>0</td>\n",
              "      <td>40</td>\n",
              "      <td>United-States</td>\n",
              "    </tr>\n",
              "    <tr>\n",
              "      <th>1</th>\n",
              "      <td>50</td>\n",
              "      <td>Self-emp-not-inc</td>\n",
              "      <td>83311</td>\n",
              "      <td>Bachelors</td>\n",
              "      <td>13</td>\n",
              "      <td>Married-civ-spouse</td>\n",
              "      <td>Exec-managerial</td>\n",
              "      <td>Husband</td>\n",
              "      <td>White</td>\n",
              "      <td>Male</td>\n",
              "      <td>0</td>\n",
              "      <td>0</td>\n",
              "      <td>13</td>\n",
              "      <td>United-States</td>\n",
              "    </tr>\n",
              "    <tr>\n",
              "      <th>2</th>\n",
              "      <td>38</td>\n",
              "      <td>Private</td>\n",
              "      <td>215646</td>\n",
              "      <td>HS-grad</td>\n",
              "      <td>9</td>\n",
              "      <td>Divorced</td>\n",
              "      <td>Handlers-cleaners</td>\n",
              "      <td>Not-in-family</td>\n",
              "      <td>White</td>\n",
              "      <td>Male</td>\n",
              "      <td>0</td>\n",
              "      <td>0</td>\n",
              "      <td>40</td>\n",
              "      <td>United-States</td>\n",
              "    </tr>\n",
              "    <tr>\n",
              "      <th>3</th>\n",
              "      <td>53</td>\n",
              "      <td>Private</td>\n",
              "      <td>234721</td>\n",
              "      <td>11th</td>\n",
              "      <td>7</td>\n",
              "      <td>Married-civ-spouse</td>\n",
              "      <td>Handlers-cleaners</td>\n",
              "      <td>Husband</td>\n",
              "      <td>Black</td>\n",
              "      <td>Male</td>\n",
              "      <td>0</td>\n",
              "      <td>0</td>\n",
              "      <td>40</td>\n",
              "      <td>United-States</td>\n",
              "    </tr>\n",
              "    <tr>\n",
              "      <th>4</th>\n",
              "      <td>28</td>\n",
              "      <td>Private</td>\n",
              "      <td>338409</td>\n",
              "      <td>Bachelors</td>\n",
              "      <td>13</td>\n",
              "      <td>Married-civ-spouse</td>\n",
              "      <td>Prof-specialty</td>\n",
              "      <td>Wife</td>\n",
              "      <td>Black</td>\n",
              "      <td>Female</td>\n",
              "      <td>0</td>\n",
              "      <td>0</td>\n",
              "      <td>40</td>\n",
              "      <td>Cuba</td>\n",
              "    </tr>\n",
              "  </tbody>\n",
              "</table>\n",
              "</div>"
            ],
            "text/plain": [
              "   age          workclass  ...  hour-per-week  native-country\n",
              "0   39          State-gov  ...             40   United-States\n",
              "1   50   Self-emp-not-inc  ...             13   United-States\n",
              "2   38            Private  ...             40   United-States\n",
              "3   53            Private  ...             40   United-States\n",
              "4   28            Private  ...             40            Cuba\n",
              "\n",
              "[5 rows x 14 columns]"
            ]
          },
          "metadata": {},
          "execution_count": 9
        }
      ]
    },
    {
      "cell_type": "code",
      "metadata": {
        "colab": {
          "base_uri": "https://localhost:8080/"
        },
        "id": "VriNCJ5XQLLw",
        "outputId": "3b376326-8b51-4614-f2c9-d0bd8263e4ba"
      },
      "source": [
        "X.shape"
      ],
      "execution_count": null,
      "outputs": [
        {
          "output_type": "execute_result",
          "data": {
            "text/plain": [
              "(32561, 14)"
            ]
          },
          "metadata": {},
          "execution_count": 10
        }
      ]
    },
    {
      "cell_type": "code",
      "metadata": {
        "colab": {
          "base_uri": "https://localhost:8080/"
        },
        "id": "WKQlz3ylQQiL",
        "outputId": "150f9474-2b81-4480-8d36-4a36b8291e73"
      },
      "source": [
        "y.head()"
      ],
      "execution_count": null,
      "outputs": [
        {
          "output_type": "execute_result",
          "data": {
            "text/plain": [
              "0    0\n",
              "1    0\n",
              "2    0\n",
              "3    0\n",
              "4    0\n",
              "Name: income, dtype: int64"
            ]
          },
          "metadata": {},
          "execution_count": 11
        }
      ]
    },
    {
      "cell_type": "markdown",
      "metadata": {
        "id": "NRy5w65OQa6b"
      },
      "source": [
        "# Divisão da base de dados em treinamento e teste"
      ]
    },
    {
      "cell_type": "code",
      "metadata": {
        "id": "g7NAtqIVQWW9"
      },
      "source": [
        "X_treinamento, X_teste, y_treinamento, y_teste = train_test_split(X, y, test_size = 0.3, random_state = 42)"
      ],
      "execution_count": null,
      "outputs": []
    },
    {
      "cell_type": "code",
      "metadata": {
        "colab": {
          "base_uri": "https://localhost:8080/"
        },
        "id": "tMBw8LL1Qg49",
        "outputId": "d88f3ab0-09a6-4589-c00f-1961d6d01557"
      },
      "source": [
        "print(X_treinamento.shape, '------', X_teste.shape)\n",
        "print('-------------------------------------')\n",
        "print(y_treinamento.shape, '--------', y_teste.shape)"
      ],
      "execution_count": null,
      "outputs": [
        {
          "output_type": "stream",
          "name": "stdout",
          "text": [
            "(22792, 14) ------ (9769, 14)\n",
            "-------------------------------------\n",
            "(22792,) -------- (9769,)\n"
          ]
        }
      ]
    },
    {
      "cell_type": "code",
      "metadata": {
        "colab": {
          "base_uri": "https://localhost:8080/"
        },
        "id": "ceAdR2fDQ8uo",
        "outputId": "60a3bcce-ad4f-445c-d27a-06291263f0ba"
      },
      "source": [
        "base.columns"
      ],
      "execution_count": null,
      "outputs": [
        {
          "output_type": "execute_result",
          "data": {
            "text/plain": [
              "Index(['age', 'workclass', 'final-weight', 'education', 'education-num',\n",
              "       'marital-status', 'occupation', 'relationship', 'race', 'sex',\n",
              "       'capital-gain', 'capital-loos', 'hour-per-week', 'native-country',\n",
              "       'income'],\n",
              "      dtype='object')"
            ]
          },
          "metadata": {},
          "execution_count": 14
        }
      ]
    },
    {
      "cell_type": "code",
      "metadata": {
        "id": "UI2lcmZHRFCD"
      },
      "source": [
        "import tensorflow as tf"
      ],
      "execution_count": null,
      "outputs": []
    },
    {
      "cell_type": "code",
      "metadata": {
        "colab": {
          "base_uri": "https://localhost:8080/"
        },
        "id": "kOAWe3yZRK8c",
        "outputId": "924aa560-3962-4b3a-a285-2a1bf4615e6d"
      },
      "source": [
        "base.workclass.unique()"
      ],
      "execution_count": null,
      "outputs": [
        {
          "output_type": "execute_result",
          "data": {
            "text/plain": [
              "array([' State-gov', ' Self-emp-not-inc', ' Private', ' Federal-gov',\n",
              "       ' Local-gov', ' ?', ' Self-emp-inc', ' Without-pay',\n",
              "       ' Never-worked'], dtype=object)"
            ]
          },
          "metadata": {},
          "execution_count": 16
        }
      ]
    },
    {
      "cell_type": "markdown",
      "metadata": {
        "id": "y9wTk13oSpXl"
      },
      "source": [
        "# Definindo as colunas categóricas"
      ]
    },
    {
      "cell_type": "code",
      "metadata": {
        "id": "S4Nuv0NsRPp-"
      },
      "source": [
        "workclass = tf.feature_column.categorical_column_with_hash_bucket(key = 'workclass', hash_bucket_size = 100)\n",
        "education = tf.feature_column.categorical_column_with_hash_bucket(key = 'education', hash_bucket_size = 100)\n",
        "marital_status = tf.feature_column.categorical_column_with_hash_bucket(key = 'marital-status', hash_bucket_size = 100)\n",
        "occupation = tf.feature_column.categorical_column_with_hash_bucket(key = 'occupation', hash_bucket_size = 100)\n",
        "relationship = tf.feature_column.categorical_column_with_hash_bucket(key = 'relationship', hash_bucket_size = 100)\n",
        "race = tf.feature_column.categorical_column_with_hash_bucket(key = 'race', hash_bucket_size = 100)\n",
        "country = tf.feature_column.categorical_column_with_hash_bucket(key = 'native-country', hash_bucket_size = 100)"
      ],
      "execution_count": null,
      "outputs": []
    },
    {
      "cell_type": "code",
      "metadata": {
        "colab": {
          "base_uri": "https://localhost:8080/"
        },
        "id": "3jX5HuYBRX_h",
        "outputId": "fc944ea8-6b71-4981-8b38-b096d90cf233"
      },
      "source": [
        "base.sex.unique()"
      ],
      "execution_count": null,
      "outputs": [
        {
          "output_type": "execute_result",
          "data": {
            "text/plain": [
              "array([' Male', ' Female'], dtype=object)"
            ]
          },
          "metadata": {},
          "execution_count": 18
        }
      ]
    },
    {
      "cell_type": "code",
      "metadata": {
        "id": "NsAxzAKdR3jE"
      },
      "source": [
        "sex = tf.feature_column.categorical_column_with_vocabulary_list(key = 'sex', vocabulary_list=[' Male', ' Female'])"
      ],
      "execution_count": null,
      "outputs": []
    },
    {
      "cell_type": "code",
      "metadata": {
        "colab": {
          "base_uri": "https://localhost:8080/"
        },
        "id": "a0GOq_-iR8uE",
        "outputId": "3d9a9219-7ab9-4396-c60a-3a0f60b61fe8"
      },
      "source": [
        "base.age.mean()"
      ],
      "execution_count": null,
      "outputs": [
        {
          "output_type": "execute_result",
          "data": {
            "text/plain": [
              "38.58164675532078"
            ]
          },
          "metadata": {},
          "execution_count": 20
        }
      ]
    },
    {
      "cell_type": "code",
      "metadata": {
        "colab": {
          "base_uri": "https://localhost:8080/"
        },
        "id": "nzRshxjQSBWU",
        "outputId": "a00f9f96-2b47-4054-c5bb-1ef6d4da1d0f"
      },
      "source": [
        "base.age.std()"
      ],
      "execution_count": null,
      "outputs": [
        {
          "output_type": "execute_result",
          "data": {
            "text/plain": [
              "13.640432553581146"
            ]
          },
          "metadata": {},
          "execution_count": 21
        }
      ]
    },
    {
      "cell_type": "markdown",
      "metadata": {
        "id": "WXim43fpSwU5"
      },
      "source": [
        "# Definindo as colunas numericas"
      ]
    },
    {
      "cell_type": "code",
      "metadata": {
        "id": "yIE8QZkZSGsV"
      },
      "source": [
        "def padroniza_age(valor):\n",
        "    return tf.divide(tf.subtract(tf.cast(valor, tf.float32), tf.constant(38.58)), tf.constant(13.64))\n",
        "\n",
        "def padroniza_finalweight(valor):\n",
        "    return tf.divide(tf.subtract(tf.cast(valor, tf.float32), tf.constant(189778.36)), tf.constant(105549.977))\n",
        "\n",
        "def padroniza_education(valor):\n",
        "    return tf.divide(tf.subtract(tf.cast(valor, tf.float32), tf.constant(10.08)), tf.constant(2.57))\n",
        "\n",
        "def padroniza_capitalgain(valor):\n",
        "    return tf.divide(tf.subtract(tf.cast(valor, tf.float32), tf.constant(1077.64)), tf.constant(7385.29))\n",
        "\n",
        "def padroniza_capitalloos(valor):\n",
        "    return tf.divide(tf.subtract(tf.cast(valor, tf.float32), tf.constant(87.30)), tf.constant(402.96))\n",
        "\n",
        "def padroniza_hour(valor):\n",
        "    return tf.divide(tf.subtract(tf.cast(valor, tf.float32), tf.constant(40.43)), tf.constant(12.34))"
      ],
      "execution_count": null,
      "outputs": []
    },
    {
      "cell_type": "code",
      "metadata": {
        "id": "qA8bj-X5S7gs"
      },
      "source": [
        "age = tf.feature_column.numeric_column(key = 'age', normalizer_fn = padroniza_age)\n",
        "final_weight = tf.feature_column.numeric_column(key = 'final-weight', normalizer_fn = padroniza_finalweight)\n",
        "education_num = tf.feature_column.numeric_column(key = 'education-num', normalizer_fn = padroniza_education)\n",
        "capital_gain = tf.feature_column.numeric_column(key = 'capital-gain', normalizer_fn = padroniza_capitalgain)\n",
        "capital_loos = tf.feature_column.numeric_column(key = 'capital-loos', normalizer_fn = padroniza_capitalloos)\n",
        "hour = tf.feature_column.numeric_column(key = 'hour-per-week', normalizer_fn = padroniza_hour)"
      ],
      "execution_count": null,
      "outputs": []
    },
    {
      "cell_type": "code",
      "metadata": {
        "colab": {
          "base_uri": "https://localhost:8080/"
        },
        "id": "33SEQx4CTBoY",
        "outputId": "4a0ee2e1-f10e-4d60-ae56-877a3d162496"
      },
      "source": [
        "len(base.workclass.unique())"
      ],
      "execution_count": null,
      "outputs": [
        {
          "output_type": "execute_result",
          "data": {
            "text/plain": [
              "9"
            ]
          },
          "metadata": {},
          "execution_count": 24
        }
      ]
    },
    {
      "cell_type": "markdown",
      "metadata": {
        "id": "Uj01ahCETdQh"
      },
      "source": [
        "# Criando as Embeddings"
      ]
    },
    {
      "cell_type": "code",
      "metadata": {
        "id": "3Qiczq2FTFbk"
      },
      "source": [
        "embedded_workclass = tf.feature_column.embedding_column(workclass, dimension = 9)\n",
        "embedded_education = tf.feature_column.embedding_column(education, dimension = len(base.education.unique()))\n",
        "embedded_marital = tf.feature_column.embedding_column(marital_status, dimension = len(base['marital-status'].unique()))\n",
        "embedded_occupation = tf.feature_column.embedding_column(occupation, dimension = len(base.occupation.unique()))\n",
        "embedded_relationship = tf.feature_column.embedding_column(relationship, dimension = len(base.relationship.unique()))\n",
        "embedded_race = tf.feature_column.embedding_column(race, dimension = len(base.race.unique()))\n",
        "embedded_sex = tf.feature_column.embedding_column(sex, dimension = len(base.sex.unique()))\n",
        "embedded_country = tf.feature_column.embedding_column(country, dimension = len(base['native-country'].unique()))"
      ],
      "execution_count": null,
      "outputs": []
    },
    {
      "cell_type": "code",
      "metadata": {
        "id": "OCw5GDK0TjOY"
      },
      "source": [
        "colunas_rna = [age, embedded_workclass, final_weight, embedded_education, education_num,\n",
        "               embedded_marital, embedded_occupation, embedded_relationship, \n",
        "               embedded_race, embedded_sex,\n",
        "               capital_gain, capital_loos, hour, embedded_country]"
      ],
      "execution_count": null,
      "outputs": []
    },
    {
      "cell_type": "markdown",
      "metadata": {
        "id": "JTLd1-iLTsiJ"
      },
      "source": [
        "# Função de Treinamento"
      ]
    },
    {
      "cell_type": "code",
      "metadata": {
        "id": "ED0N2KmnToSt"
      },
      "source": [
        "def make_input_fn(X, y = None, num_epochs = None, shuffle = True, batch_size=32):\n",
        "    def input_function():\n",
        "        ds = tf.data.Dataset.from_tensor_slices((dict(X), y))\n",
        "        if shuffle:\n",
        "            ds = ds.shuffle(1000)\n",
        "        ds = ds.batch(batch_size).repeat(num_epochs)\n",
        "        return ds\n",
        "    return input_function"
      ],
      "execution_count": null,
      "outputs": []
    },
    {
      "cell_type": "code",
      "metadata": {
        "id": "UR2ufd9wTw7I"
      },
      "source": [
        "funcao_treinamento = make_input_fn(X_treinamento, y_treinamento)"
      ],
      "execution_count": null,
      "outputs": []
    },
    {
      "cell_type": "code",
      "metadata": {
        "colab": {
          "base_uri": "https://localhost:8080/"
        },
        "id": "Vxz239ZZT4y0",
        "outputId": "cc6a6cd7-a052-44d7-f4fe-d3a57816f473"
      },
      "source": [
        "config = tf.estimator.RunConfig(tf_random_seed = 42)\n",
        "classificador = tf.estimator.DNNClassifier(hidden_units = [8, 8], feature_columns = colunas_rna, n_classes = 2, config = config)\n",
        "classificador.train(input_fn = funcao_treinamento, steps = 10000)"
      ],
      "execution_count": null,
      "outputs": [
        {
          "output_type": "stream",
          "name": "stdout",
          "text": [
            "WARNING:tensorflow:Using temporary folder as model directory: /tmp/tmpi_uf3_wt\n",
            "INFO:tensorflow:Using config: {'_model_dir': '/tmp/tmpi_uf3_wt', '_tf_random_seed': 42, '_save_summary_steps': 100, '_save_checkpoints_steps': None, '_save_checkpoints_secs': 600, '_session_config': allow_soft_placement: true\n",
            "graph_options {\n",
            "  rewrite_options {\n",
            "    meta_optimizer_iterations: ONE\n",
            "  }\n",
            "}\n",
            ", '_keep_checkpoint_max': 5, '_keep_checkpoint_every_n_hours': 10000, '_log_step_count_steps': 100, '_train_distribute': None, '_device_fn': None, '_protocol': None, '_eval_distribute': None, '_experimental_distribute': None, '_experimental_max_worker_delay_secs': None, '_session_creation_timeout_secs': 7200, '_checkpoint_save_graph_def': True, '_service': None, '_cluster_spec': ClusterSpec({}), '_task_type': 'worker', '_task_id': 0, '_global_id_in_cluster': 0, '_master': '', '_evaluation_master': '', '_is_chief': True, '_num_ps_replicas': 0, '_num_worker_replicas': 1}\n",
            "WARNING:tensorflow:From /usr/local/lib/python3.7/dist-packages/tensorflow/python/training/training_util.py:236: Variable.initialized_value (from tensorflow.python.ops.variables) is deprecated and will be removed in a future version.\n",
            "Instructions for updating:\n",
            "Use Variable.read_value. Variables in 2.X are initialized automatically both in eager and graph (inside tf.defun) contexts.\n",
            "INFO:tensorflow:Calling model_fn.\n",
            "WARNING:tensorflow:From /usr/local/lib/python3.7/dist-packages/keras/optimizer_v2/adagrad.py:84: calling Constant.__init__ (from tensorflow.python.ops.init_ops) with dtype is deprecated and will be removed in a future version.\n",
            "Instructions for updating:\n",
            "Call initializer instance with the dtype argument instead of passing it to the constructor\n",
            "INFO:tensorflow:Done calling model_fn.\n",
            "INFO:tensorflow:Create CheckpointSaverHook.\n",
            "INFO:tensorflow:Graph was finalized.\n",
            "INFO:tensorflow:Running local_init_op.\n",
            "INFO:tensorflow:Done running local_init_op.\n",
            "INFO:tensorflow:Calling checkpoint listeners before saving checkpoint 0...\n",
            "INFO:tensorflow:Saving checkpoints for 0 into /tmp/tmpi_uf3_wt/model.ckpt.\n",
            "INFO:tensorflow:Calling checkpoint listeners after saving checkpoint 0...\n",
            "INFO:tensorflow:loss = 0.67846966, step = 0\n",
            "INFO:tensorflow:global_step/sec: 204.744\n",
            "INFO:tensorflow:loss = 0.641011, step = 100 (0.490 sec)\n",
            "INFO:tensorflow:global_step/sec: 447.002\n",
            "INFO:tensorflow:loss = 0.61818624, step = 200 (0.224 sec)\n",
            "INFO:tensorflow:global_step/sec: 444.032\n",
            "INFO:tensorflow:loss = 0.6073266, step = 300 (0.228 sec)\n",
            "INFO:tensorflow:global_step/sec: 466.572\n",
            "INFO:tensorflow:loss = 0.5919659, step = 400 (0.212 sec)\n",
            "INFO:tensorflow:global_step/sec: 443.335\n",
            "INFO:tensorflow:loss = 0.6071208, step = 500 (0.228 sec)\n",
            "INFO:tensorflow:global_step/sec: 425.216\n",
            "INFO:tensorflow:loss = 0.61996543, step = 600 (0.236 sec)\n",
            "INFO:tensorflow:global_step/sec: 465.493\n",
            "INFO:tensorflow:loss = 0.6287213, step = 700 (0.211 sec)\n",
            "INFO:tensorflow:global_step/sec: 448.3\n",
            "INFO:tensorflow:loss = 0.592767, step = 800 (0.226 sec)\n",
            "INFO:tensorflow:global_step/sec: 393.794\n",
            "INFO:tensorflow:loss = 0.5473638, step = 900 (0.250 sec)\n",
            "INFO:tensorflow:global_step/sec: 430.074\n",
            "INFO:tensorflow:loss = 0.53446496, step = 1000 (0.235 sec)\n",
            "INFO:tensorflow:global_step/sec: 449.779\n",
            "INFO:tensorflow:loss = 0.44462252, step = 1100 (0.224 sec)\n",
            "INFO:tensorflow:global_step/sec: 445.965\n",
            "INFO:tensorflow:loss = 0.53108656, step = 1200 (0.223 sec)\n",
            "INFO:tensorflow:global_step/sec: 407.193\n",
            "INFO:tensorflow:loss = 0.5668388, step = 1300 (0.244 sec)\n",
            "INFO:tensorflow:global_step/sec: 395.535\n",
            "INFO:tensorflow:loss = 0.5349909, step = 1400 (0.253 sec)\n",
            "INFO:tensorflow:global_step/sec: 442.826\n",
            "INFO:tensorflow:loss = 0.56939626, step = 1500 (0.225 sec)\n",
            "INFO:tensorflow:global_step/sec: 449.815\n",
            "INFO:tensorflow:loss = 0.51255727, step = 1600 (0.225 sec)\n",
            "INFO:tensorflow:global_step/sec: 449.178\n",
            "INFO:tensorflow:loss = 0.52722454, step = 1700 (0.220 sec)\n",
            "INFO:tensorflow:global_step/sec: 424.571\n",
            "INFO:tensorflow:loss = 0.54073274, step = 1800 (0.236 sec)\n",
            "INFO:tensorflow:global_step/sec: 428.922\n",
            "INFO:tensorflow:loss = 0.3708956, step = 1900 (0.236 sec)\n",
            "INFO:tensorflow:global_step/sec: 427.089\n",
            "INFO:tensorflow:loss = 0.48188117, step = 2000 (0.235 sec)\n",
            "INFO:tensorflow:global_step/sec: 439.391\n",
            "INFO:tensorflow:loss = 0.5206532, step = 2100 (0.227 sec)\n",
            "INFO:tensorflow:global_step/sec: 425.232\n",
            "INFO:tensorflow:loss = 0.4638157, step = 2200 (0.235 sec)\n",
            "INFO:tensorflow:global_step/sec: 418.125\n",
            "INFO:tensorflow:loss = 0.47662124, step = 2300 (0.239 sec)\n",
            "INFO:tensorflow:global_step/sec: 424.048\n",
            "INFO:tensorflow:loss = 0.4891312, step = 2400 (0.236 sec)\n",
            "INFO:tensorflow:global_step/sec: 437.057\n",
            "INFO:tensorflow:loss = 0.5561472, step = 2500 (0.229 sec)\n",
            "INFO:tensorflow:global_step/sec: 404.116\n",
            "INFO:tensorflow:loss = 0.45375696, step = 2600 (0.247 sec)\n",
            "INFO:tensorflow:global_step/sec: 433.175\n",
            "INFO:tensorflow:loss = 0.42334837, step = 2700 (0.228 sec)\n",
            "INFO:tensorflow:global_step/sec: 444.896\n",
            "INFO:tensorflow:loss = 0.4128601, step = 2800 (0.227 sec)\n",
            "INFO:tensorflow:global_step/sec: 447.667\n",
            "INFO:tensorflow:loss = 0.49319375, step = 2900 (0.221 sec)\n",
            "INFO:tensorflow:global_step/sec: 446.545\n",
            "INFO:tensorflow:loss = 0.4725096, step = 3000 (0.225 sec)\n",
            "INFO:tensorflow:global_step/sec: 436.482\n",
            "INFO:tensorflow:loss = 0.4160033, step = 3100 (0.228 sec)\n",
            "INFO:tensorflow:global_step/sec: 423.349\n",
            "INFO:tensorflow:loss = 0.4191815, step = 3200 (0.236 sec)\n",
            "INFO:tensorflow:global_step/sec: 443.591\n",
            "INFO:tensorflow:loss = 0.55790377, step = 3300 (0.226 sec)\n",
            "INFO:tensorflow:global_step/sec: 420.336\n",
            "INFO:tensorflow:loss = 0.37119478, step = 3400 (0.238 sec)\n",
            "INFO:tensorflow:global_step/sec: 426.302\n",
            "INFO:tensorflow:loss = 0.46143875, step = 3500 (0.235 sec)\n",
            "INFO:tensorflow:global_step/sec: 407.171\n",
            "INFO:tensorflow:loss = 0.535494, step = 3600 (0.245 sec)\n",
            "INFO:tensorflow:global_step/sec: 426.78\n",
            "INFO:tensorflow:loss = 0.42414254, step = 3700 (0.235 sec)\n",
            "INFO:tensorflow:global_step/sec: 420.154\n",
            "INFO:tensorflow:loss = 0.5280776, step = 3800 (0.241 sec)\n",
            "INFO:tensorflow:global_step/sec: 439.44\n",
            "INFO:tensorflow:loss = 0.4146216, step = 3900 (0.227 sec)\n",
            "INFO:tensorflow:global_step/sec: 438.815\n",
            "INFO:tensorflow:loss = 0.4305227, step = 4000 (0.228 sec)\n",
            "INFO:tensorflow:global_step/sec: 423.762\n",
            "INFO:tensorflow:loss = 0.52079064, step = 4100 (0.236 sec)\n",
            "INFO:tensorflow:global_step/sec: 438.862\n",
            "INFO:tensorflow:loss = 0.38929552, step = 4200 (0.224 sec)\n",
            "INFO:tensorflow:global_step/sec: 423.72\n",
            "INFO:tensorflow:loss = 0.4214328, step = 4300 (0.236 sec)\n",
            "INFO:tensorflow:global_step/sec: 435.087\n",
            "INFO:tensorflow:loss = 0.53468955, step = 4400 (0.234 sec)\n",
            "INFO:tensorflow:global_step/sec: 414.706\n",
            "INFO:tensorflow:loss = 0.55230296, step = 4500 (0.238 sec)\n",
            "INFO:tensorflow:global_step/sec: 426.162\n",
            "INFO:tensorflow:loss = 0.28246504, step = 4600 (0.235 sec)\n",
            "INFO:tensorflow:global_step/sec: 456.119\n",
            "INFO:tensorflow:loss = 0.51071644, step = 4700 (0.223 sec)\n",
            "INFO:tensorflow:global_step/sec: 440.705\n",
            "INFO:tensorflow:loss = 0.48980582, step = 4800 (0.226 sec)\n",
            "INFO:tensorflow:global_step/sec: 434.069\n",
            "INFO:tensorflow:loss = 0.40493575, step = 4900 (0.230 sec)\n",
            "INFO:tensorflow:global_step/sec: 458.415\n",
            "INFO:tensorflow:loss = 0.35514468, step = 5000 (0.219 sec)\n",
            "INFO:tensorflow:global_step/sec: 432.828\n",
            "INFO:tensorflow:loss = 0.31712875, step = 5100 (0.231 sec)\n",
            "INFO:tensorflow:global_step/sec: 457.292\n",
            "INFO:tensorflow:loss = 0.46455026, step = 5200 (0.215 sec)\n",
            "INFO:tensorflow:global_step/sec: 447.401\n",
            "INFO:tensorflow:loss = 0.42769453, step = 5300 (0.224 sec)\n",
            "INFO:tensorflow:global_step/sec: 437.233\n",
            "INFO:tensorflow:loss = 0.5104595, step = 5400 (0.228 sec)\n",
            "INFO:tensorflow:global_step/sec: 435.06\n",
            "INFO:tensorflow:loss = 0.3529793, step = 5500 (0.229 sec)\n",
            "INFO:tensorflow:global_step/sec: 435.073\n",
            "INFO:tensorflow:loss = 0.32558954, step = 5600 (0.230 sec)\n",
            "INFO:tensorflow:global_step/sec: 400.967\n",
            "INFO:tensorflow:loss = 0.4725524, step = 5700 (0.249 sec)\n",
            "INFO:tensorflow:global_step/sec: 414.579\n",
            "INFO:tensorflow:loss = 0.3520484, step = 5800 (0.244 sec)\n",
            "INFO:tensorflow:global_step/sec: 432.576\n",
            "INFO:tensorflow:loss = 0.4494019, step = 5900 (0.232 sec)\n",
            "INFO:tensorflow:global_step/sec: 463.102\n",
            "INFO:tensorflow:loss = 0.4732401, step = 6000 (0.212 sec)\n",
            "INFO:tensorflow:global_step/sec: 448.461\n",
            "INFO:tensorflow:loss = 0.53747356, step = 6100 (0.223 sec)\n",
            "INFO:tensorflow:global_step/sec: 455.437\n",
            "INFO:tensorflow:loss = 0.3851667, step = 6200 (0.224 sec)\n",
            "INFO:tensorflow:global_step/sec: 432.281\n",
            "INFO:tensorflow:loss = 0.52536035, step = 6300 (0.229 sec)\n",
            "INFO:tensorflow:global_step/sec: 463.47\n",
            "INFO:tensorflow:loss = 0.30915207, step = 6400 (0.218 sec)\n",
            "INFO:tensorflow:global_step/sec: 438.232\n",
            "INFO:tensorflow:loss = 0.38833213, step = 6500 (0.227 sec)\n",
            "INFO:tensorflow:global_step/sec: 422.252\n",
            "INFO:tensorflow:loss = 0.3251, step = 6600 (0.238 sec)\n",
            "INFO:tensorflow:global_step/sec: 421.942\n",
            "INFO:tensorflow:loss = 0.38054055, step = 6700 (0.237 sec)\n",
            "INFO:tensorflow:global_step/sec: 422.916\n",
            "INFO:tensorflow:loss = 0.45553246, step = 6800 (0.236 sec)\n",
            "INFO:tensorflow:global_step/sec: 403.342\n",
            "INFO:tensorflow:loss = 0.37995613, step = 6900 (0.248 sec)\n",
            "INFO:tensorflow:global_step/sec: 446.264\n",
            "INFO:tensorflow:loss = 0.44474652, step = 7000 (0.224 sec)\n",
            "INFO:tensorflow:global_step/sec: 412.826\n",
            "INFO:tensorflow:loss = 0.47684819, step = 7100 (0.243 sec)\n",
            "INFO:tensorflow:global_step/sec: 446.668\n",
            "INFO:tensorflow:loss = 0.3524407, step = 7200 (0.224 sec)\n",
            "INFO:tensorflow:global_step/sec: 452.513\n",
            "INFO:tensorflow:loss = 0.23583212, step = 7300 (0.220 sec)\n",
            "INFO:tensorflow:global_step/sec: 419.842\n",
            "INFO:tensorflow:loss = 0.316959, step = 7400 (0.236 sec)\n",
            "INFO:tensorflow:global_step/sec: 442.843\n",
            "INFO:tensorflow:loss = 0.36971724, step = 7500 (0.226 sec)\n",
            "INFO:tensorflow:global_step/sec: 437.793\n",
            "INFO:tensorflow:loss = 0.4466876, step = 7600 (0.229 sec)\n",
            "INFO:tensorflow:global_step/sec: 446.425\n",
            "INFO:tensorflow:loss = 0.50000024, step = 7700 (0.226 sec)\n",
            "INFO:tensorflow:global_step/sec: 421.591\n",
            "INFO:tensorflow:loss = 0.2843381, step = 7800 (0.237 sec)\n",
            "INFO:tensorflow:global_step/sec: 427.734\n",
            "INFO:tensorflow:loss = 0.33046064, step = 7900 (0.233 sec)\n",
            "INFO:tensorflow:global_step/sec: 410.208\n",
            "INFO:tensorflow:loss = 0.42803672, step = 8000 (0.243 sec)\n",
            "INFO:tensorflow:global_step/sec: 463.856\n",
            "INFO:tensorflow:loss = 0.5073464, step = 8100 (0.215 sec)\n",
            "INFO:tensorflow:global_step/sec: 458.299\n",
            "INFO:tensorflow:loss = 0.4039416, step = 8200 (0.218 sec)\n",
            "INFO:tensorflow:global_step/sec: 440.717\n",
            "INFO:tensorflow:loss = 0.41526383, step = 8300 (0.227 sec)\n",
            "INFO:tensorflow:global_step/sec: 433.008\n",
            "INFO:tensorflow:loss = 0.37339377, step = 8400 (0.231 sec)\n",
            "INFO:tensorflow:global_step/sec: 454.452\n",
            "INFO:tensorflow:loss = 0.42033288, step = 8500 (0.223 sec)\n",
            "INFO:tensorflow:global_step/sec: 449.32\n",
            "INFO:tensorflow:loss = 0.3529991, step = 8600 (0.223 sec)\n",
            "INFO:tensorflow:global_step/sec: 430.416\n",
            "INFO:tensorflow:loss = 0.2604047, step = 8700 (0.228 sec)\n",
            "INFO:tensorflow:global_step/sec: 423.605\n",
            "INFO:tensorflow:loss = 0.42295134, step = 8800 (0.240 sec)\n",
            "INFO:tensorflow:global_step/sec: 428.944\n",
            "INFO:tensorflow:loss = 0.39478847, step = 8900 (0.232 sec)\n",
            "INFO:tensorflow:global_step/sec: 400.398\n",
            "INFO:tensorflow:loss = 0.3996736, step = 9000 (0.252 sec)\n",
            "INFO:tensorflow:global_step/sec: 411.177\n",
            "INFO:tensorflow:loss = 0.41936785, step = 9100 (0.242 sec)\n",
            "INFO:tensorflow:global_step/sec: 404.543\n",
            "INFO:tensorflow:loss = 0.42750365, step = 9200 (0.247 sec)\n",
            "INFO:tensorflow:global_step/sec: 423.501\n",
            "INFO:tensorflow:loss = 0.41738895, step = 9300 (0.233 sec)\n",
            "INFO:tensorflow:global_step/sec: 451.36\n",
            "INFO:tensorflow:loss = 0.39889488, step = 9400 (0.221 sec)\n",
            "INFO:tensorflow:global_step/sec: 446.144\n",
            "INFO:tensorflow:loss = 0.36938578, step = 9500 (0.226 sec)\n",
            "INFO:tensorflow:global_step/sec: 438.114\n",
            "INFO:tensorflow:loss = 0.40339142, step = 9600 (0.226 sec)\n",
            "INFO:tensorflow:global_step/sec: 430.291\n",
            "INFO:tensorflow:loss = 0.31910428, step = 9700 (0.234 sec)\n",
            "INFO:tensorflow:global_step/sec: 442.286\n",
            "INFO:tensorflow:loss = 0.35154885, step = 9800 (0.228 sec)\n",
            "INFO:tensorflow:global_step/sec: 467.516\n",
            "INFO:tensorflow:loss = 0.36600888, step = 9900 (0.210 sec)\n",
            "INFO:tensorflow:Calling checkpoint listeners before saving checkpoint 10000...\n",
            "INFO:tensorflow:Saving checkpoints for 10000 into /tmp/tmpi_uf3_wt/model.ckpt.\n",
            "INFO:tensorflow:Calling checkpoint listeners after saving checkpoint 10000...\n",
            "INFO:tensorflow:Loss for final step: 0.61470175.\n"
          ]
        },
        {
          "output_type": "execute_result",
          "data": {
            "text/plain": [
              "<tensorflow_estimator.python.estimator.canned.dnn.DNNClassifierV2 at 0x7f5fd646dcd0>"
            ]
          },
          "metadata": {},
          "execution_count": 29
        }
      ]
    },
    {
      "cell_type": "code",
      "metadata": {
        "id": "ur2AZWR1UA28"
      },
      "source": [
        "funcao_teste = make_input_fn(X_teste, y_teste, num_epochs = 1, shuffle = False)"
      ],
      "execution_count": null,
      "outputs": []
    },
    {
      "cell_type": "code",
      "metadata": {
        "id": "AyFo_YN0UZa5",
        "colab": {
          "base_uri": "https://localhost:8080/"
        },
        "outputId": "b4bd7540-9c7d-418c-910b-f2c4342ed28e"
      },
      "source": [
        "classificador.evaluate(input_fn = funcao_teste, steps = 10000)"
      ],
      "execution_count": null,
      "outputs": [
        {
          "output_type": "stream",
          "name": "stdout",
          "text": [
            "INFO:tensorflow:Calling model_fn.\n",
            "INFO:tensorflow:Done calling model_fn.\n",
            "INFO:tensorflow:Starting evaluation at 2021-10-26T01:58:24\n",
            "INFO:tensorflow:Graph was finalized.\n",
            "INFO:tensorflow:Restoring parameters from /tmp/tmpi_uf3_wt/model.ckpt-10000\n",
            "INFO:tensorflow:Running local_init_op.\n",
            "INFO:tensorflow:Done running local_init_op.\n",
            "INFO:tensorflow:Inference Time : 1.36791s\n",
            "INFO:tensorflow:Finished evaluation at 2021-10-26-01:58:25\n",
            "INFO:tensorflow:Saving dict for global step 10000: accuracy = 0.82249975, accuracy_baseline = 0.7631283, auc = 0.86699, auc_precision_recall = 0.65954363, average_loss = 0.380941, global_step = 10000, label/mean = 0.23687173, loss = 0.38081694, precision = 0.67967784, prediction/mean = 0.24518996, recall = 0.47407088\n",
            "INFO:tensorflow:Saving 'checkpoint_path' summary for global step 10000: /tmp/tmpi_uf3_wt/model.ckpt-10000\n"
          ]
        },
        {
          "output_type": "execute_result",
          "data": {
            "text/plain": [
              "{'accuracy': 0.82249975,\n",
              " 'accuracy_baseline': 0.7631283,\n",
              " 'auc': 0.86699,\n",
              " 'auc_precision_recall': 0.65954363,\n",
              " 'average_loss': 0.380941,\n",
              " 'global_step': 10000,\n",
              " 'label/mean': 0.23687173,\n",
              " 'loss': 0.38081694,\n",
              " 'precision': 0.67967784,\n",
              " 'prediction/mean': 0.24518996,\n",
              " 'recall': 0.47407088}"
            ]
          },
          "metadata": {},
          "execution_count": 31
        }
      ]
    },
    {
      "cell_type": "code",
      "metadata": {
        "id": "lZk_FhP8UegC"
      },
      "source": [
        ""
      ],
      "execution_count": null,
      "outputs": []
    }
  ]
}